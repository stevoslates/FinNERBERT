{
 "cells": [
  {
   "cell_type": "markdown",
   "metadata": {},
   "source": [
    "# Training BERT on NER Datasets\n",
    "\n",
    "TO DO:\n",
    "- Load datasets into HF Dataset format\n",
    "- Train BERT on training sets\n",
    "- Evaluate & Hyperprmamter tuning on validation\n",
    "- Run on test and metrics."
   ]
  },
  {
   "cell_type": "code",
   "execution_count": null,
   "metadata": {},
   "outputs": [],
   "source": [
    "# Load data into HF Dataset\n",
    "#"
   ]
  }
 ],
 "metadata": {
  "language_info": {
   "name": "python"
  }
 },
 "nbformat": 4,
 "nbformat_minor": 2
}
